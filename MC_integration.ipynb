{
 "cells": [
  {
   "cell_type": "markdown",
   "metadata": {},
   "source": [
    "## Monte Carlo Integration\n",
    "\n",
    "There are many integration techniques that can be used to compute integrals. But the vast majority of integrals do not have analytic answers! So we must resort to numerical methods of computing integrals.\n",
    "\n",
    "When it comes to the numerical computation of integrals, there are several options:\n",
    "- quadrature (eg: midpoint, trapezoidal, Simpson's rule)\n",
    "- adaptive methods\n",
    "- Newton-Cotes formulae.\n",
    "\n",
    "But these options suffer from the curse of dimensionality. As the number of dimensions of the integral increases, you need in general, an exponential amount of function evaluations to compute the integral numerically.\n",
    "\n",
    "So we consider Monte Carlo integration, which approximates the following integral as\n",
    "$$\\int_{[0, 1]^d} f(x)dx \\approx \\frac{1}{N} \\sum_{i = 1}^{N} f(x_i)$$\n",
    "where the domain of consideration is a d-dimensional hypercube $[0, 1]^d$, $x_1, x_2,..., x_N \\sim U([0, 1]^d)$ are points uniformly sampled from the d-dimensional hypercube, and $N$ is the number of points that we sample.\n"
   ]
  },
  {
   "cell_type": "markdown",
   "metadata": {},
   "source": [
    "One of the classic examples of Monte Carlo integration is the use of Monte Carlo integration to approximate $\\pi$.\n",
    "\n",
    "Consider the function \n",
    "$$f(x, y) =  \\left\\{\n",
    "\\begin{array}{ll}\n",
    "      1 & x^2 + y^2 <= 1 \\\\\n",
    "      0 & else \\\\\n",
    "\\end{array} \n",
    "\\right.$$\n",
    "and the domain $\\Omega = [-1, 1] \\times [-1, 1]$. \n",
    "\n",
    "We note that the integral\n",
    "$$I = \\int_{\\Omega} f(x, y)dxdy = \\pi $$\n",
    "and thus by randomly (but crucially, uniformly) sampling $N$ points on $\\Omega$, we can approximate $\\pi$ by computing the raio between the number of points within the circle and the total number of sampled points. More precisely, this ratio approximates the area ratio of the circle and the rectangle\n",
    "\n",
    "In mathematical terms,\n",
    "$$I_{N} = \\frac{1}{N} \\sum_{i = 1}^{N} f(x_{i}, y_{i}) = \\frac{\\pi}{4} $$\n",
    "\n",
    "In fact, this method can be generalized to estimate the area ratio of arbitrary shapes to a rectangle that inscribes the shape.\n"
   ]
  },
  {
   "cell_type": "code",
   "execution_count": 24,
   "metadata": {},
   "outputs": [
    {
     "name": "stdout",
     "output_type": "stream",
     "text": [
      "3.1422719999999997\n",
      "3.141592653589793\n"
     ]
    }
   ],
   "source": [
    "from numpy import random\n",
    "import numpy as np\n",
    "import math\n",
    "\n",
    "n_batches = 10\n",
    "n_samples = 100000\n",
    "count = 0\n",
    "radius = 1\n",
    "\n",
    "for batch in range(n_batches):\n",
    "\n",
    "    for i in range(n_samples):\n",
    "        x_i = random.uniform(-1, 1)\n",
    "        y_i = random.uniform(-1, 1)\n",
    "\n",
    "        if x_i**2 + y_i**2 <= radius:\n",
    "            count += 1\n",
    "\n",
    "print(4*(1/(n_batches*n_samples))*count)\n",
    "print(math.pi)"
   ]
  },
  {
   "cell_type": "markdown",
   "metadata": {},
   "source": [
    "Now we try the integration of some arbitrary functions. We consider the one-dimensional integral\n",
    "$$ I_1 = \\int_{0}^{2} cosh(x) dx$$\n"
   ]
  },
  {
   "cell_type": "code",
   "execution_count": 38,
   "metadata": {},
   "outputs": [
    {
     "name": "stdout",
     "output_type": "stream",
     "text": [
      "3.626620066769482\n"
     ]
    }
   ],
   "source": [
    "n_samples = 20000000\n",
    "a, b = (0, 2)\n",
    "rand_x = random.uniform(a, b, n_samples)\n",
    "y = np.cosh(rand_x)\n",
    "integral_approx = ((b - a)/n_samples)*y.sum()\n",
    "print(integral_approx)\n"
   ]
  },
  {
   "cell_type": "markdown",
   "metadata": {},
   "source": []
  }
 ],
 "metadata": {
  "kernelspec": {
   "display_name": "MC_methods",
   "language": "python",
   "name": "python3"
  },
  "language_info": {
   "codemirror_mode": {
    "name": "ipython",
    "version": 3
   },
   "file_extension": ".py",
   "mimetype": "text/x-python",
   "name": "python",
   "nbconvert_exporter": "python",
   "pygments_lexer": "ipython3",
   "version": "3.11.3"
  },
  "orig_nbformat": 4
 },
 "nbformat": 4,
 "nbformat_minor": 2
}
