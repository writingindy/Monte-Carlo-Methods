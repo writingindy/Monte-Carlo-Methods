{
 "cells": [
  {
   "cell_type": "markdown",
   "metadata": {},
   "source": [
    "## Monte Carlo Integration\n",
    "\n",
    "There are many integration techniques that can be used to compute integrals. But the vast majority of integrals do not have analytic answers! So we must resort to numerical methods of computing integrals.\n",
    "\n",
    "When it comes to the numerical computation of integrals, there are several options:\n",
    "- quadrature (eg: midpoint, trapezoidal, Simpson's rule)\n",
    "- adaptive methods\n",
    "- Newton-Cotes formulae.\n",
    "\n",
    "But these options suffer from the curse of dimensionality. As the number of dimensions of the integral increases, you need in general, an exponential amount of function evaluations to compute the integral numerically.\n",
    "\n",
    "So we consider Monte Carlo integration, which approximates the following integral as\n",
    "$$\\int_{[0, 1]^d} f(x)dx \\approx \\frac{1}{N} \\sum_{i = 1}^{N} f(x_i)$$\n",
    "where the domain of consideration is a d-dimensional hypercube $[0, 1]^d$, $x_1, x_2,..., x_N \\sim U([0, 1]^d)$ are points uniformly sampled from the d-dimensional hypercube, and $N$ is the number of points that we sample.\n",
    "\n",
    "Note that Monte Carlo integration has a convergence rate that is independent of the number of dimensions of the integral.\n"
   ]
  },
  {
   "cell_type": "markdown",
   "metadata": {},
   "source": [
    "One of the classic examples of Monte Carlo integration is the use of Monte Carlo integration to approximate $\\pi$.\n",
    "\n",
    "Consider the function \n",
    "$$f(x, y) =  \\left\\{\n",
    "\\begin{array}{ll}\n",
    "      1 & x^2 + y^2 <= 1 \\\\\n",
    "      0 & else \\\\\n",
    "\\end{array} \n",
    "\\right.$$\n",
    "and the domain $\\Omega = [-1, 1] \\times [-1, 1]$. \n",
    "\n",
    "We note that the integral\n",
    "$$I = \\int_{\\Omega} f(x, y)dxdy = \\pi $$\n",
    "and thus by randomly (but crucially, uniformly) sampling $N$ points on $\\Omega$, we can approximate $\\pi$ by computing the ratio between the number of points within the circle and the total number of sampled points. More precisely, this ratio approximates the area ratio of the circle and the rectangle\n",
    "\n",
    "In mathematical terms,\n",
    "$$I_{N} = \\frac{1}{N} \\sum_{i = 1}^{N} f(x_{i}, y_{i}) = \\frac{\\pi}{4} $$\n",
    "\n",
    "In fact, this method can be generalized to estimate the area ratio of arbitrary shapes to a rectangle that inscribes the shape.\n"
   ]
  },
  {
   "cell_type": "code",
   "execution_count": 2,
   "metadata": {},
   "outputs": [
    {
     "name": "stdout",
     "output_type": "stream",
     "text": [
      "3.142356\n",
      "3.141592653589793\n"
     ]
    }
   ],
   "source": [
    "from numpy import random\n",
    "import numpy as np\n",
    "import math\n",
    "\n",
    "n_batches = 10\n",
    "n_samples = 100000\n",
    "count = 0\n",
    "radius = 1\n",
    "\n",
    "for batch in range(n_batches):\n",
    "\n",
    "    for i in range(n_samples):\n",
    "        x_i = random.uniform(-1, 1)\n",
    "        y_i = random.uniform(-1, 1)\n",
    "\n",
    "        if x_i**2 + y_i**2 <= radius:\n",
    "            count += 1\n",
    "\n",
    "print(4*(1/(n_batches*n_samples))*count)\n",
    "print(math.pi)"
   ]
  },
  {
   "cell_type": "markdown",
   "metadata": {},
   "source": [
    "Now we try the integration of some arbitrary functions. We consider the one-dimensional integral\n",
    "$$ I_1 = \\int_{0}^{2} cosh(x) dx$$\n"
   ]
  },
  {
   "cell_type": "code",
   "execution_count": 3,
   "metadata": {},
   "outputs": [
    {
     "name": "stdout",
     "output_type": "stream",
     "text": [
      "3.6266539150440127\n"
     ]
    }
   ],
   "source": [
    "n_samples = 20000000\n",
    "a, b = (0, 2)\n",
    "rand_x = random.uniform(a, b, n_samples)\n",
    "y = np.cosh(rand_x)\n",
    "integral_approx = ((b - a)/n_samples)*y.sum()\n",
    "print(integral_approx)\n"
   ]
  },
  {
   "cell_type": "markdown",
   "metadata": {},
   "source": [
    "Now we try using Monte Carlo integration to compute the value of this particular 3-dimensional integral\n",
    "$$I = \\frac{1}{(2\\pi)^3}\\int_{-\\pi}^{\\pi}dx\\int_{-\\pi}^{\\pi}dy\\int_{-\\pi}^{\\pi}dz \\frac{1}{1 - \\cos(x)\\cos(y)\\cos(z)}$$\n",
    "\n",
    "This example follows an example in the GNU Scientific Library and is a particularly relevant example for the theory of random walks - it computes the mean time spent at the origin by a random walk on a body-centered cubic lattice in 3D."
   ]
  },
  {
   "cell_type": "code",
   "execution_count": 14,
   "metadata": {},
   "outputs": [
    {
     "data": {
      "text/plain": [
       "1.3986161246540831"
      ]
     },
     "execution_count": 14,
     "metadata": {},
     "output_type": "execute_result"
    }
   ],
   "source": [
    "def f(x, y, z):\n",
    "    return 1/(((2*math.pi)**3)*(1 - np.cos(x)*np.cos(y)*np.cos(z)))\n",
    "\n",
    "n_samples = 1000000\n",
    "x_a, x_b = -math.pi, math.pi\n",
    "y_a, y_b = -math.pi, math.pi\n",
    "z_a, z_b = -math.pi, math.pi\n",
    "\n",
    "rand_x = random.uniform(x_a, x_b, n_samples)\n",
    "rand_y = random.uniform(y_a, y_b, n_samples)\n",
    "rand_z = random.uniform(z_a, z_b, n_samples)\n",
    "\n",
    "integral_approx = 0\n",
    "\n",
    "for i in range(n_samples):\n",
    "    x = rand_x[i]\n",
    "    y = rand_y[i]\n",
    "    z = rand_z[i]\n",
    "\n",
    "    integral_approx += f(x, y, z)\n",
    "\n",
    "integral_approx = (((x_b - x_a)*(y_b - y_a)*(z_b - z_a))/n_samples)*integral_approx\n",
    "integral_approx"
   ]
  },
  {
   "cell_type": "markdown",
   "metadata": {},
   "source": [
    "Now we try the integration of multidimensional functions on some complicated integration volume. For multidimensional Monte Carlo integration over arbitrary integration volumes, the approximation to such an integral is\n",
    "$$ \\int_{\\Omega} f(\\vec{x}) dV \\approx \\frac{V}{N} \\sum_{i = 1}^{N}f(\\vec{x_i})$$\n",
    "where $\\Omega$ is the domain of integration, $V$ is the volume of integration $N$ is the number of points being sampled.\n",
    "\n",
    "The example we execute below follows an example from scikit-monaco, a Python package that performs Monte Carlo integration. The function being integrated is $f(x, y) = y^2$ and the integration volume of consideration is ![](rings.png)."
   ]
  },
  {
   "cell_type": "code",
   "execution_count": 11,
   "metadata": {},
   "outputs": [
    {
     "data": {
      "text/plain": [
       "9.966235974317216"
      ]
     },
     "execution_count": 11,
     "metadata": {},
     "output_type": "execute_result"
    }
   ],
   "source": [
    "def f(x, y):\n",
    "    return y**2\n",
    "\n",
    "def g(x, y):\n",
    "    r = np.sqrt(x**2 + y**2)\n",
    "    if r >= 2 and r <= 3 and x >= 1 and y >= -2:\n",
    "        return f(x, y)\n",
    "    else:\n",
    "        return 0\n",
    "    \n",
    "n_samples = 1000000\n",
    "x_a, x_b = 1, 3\n",
    "y_a, y_b = -2, 3\n",
    "\n",
    "rand_x = random.uniform(x_a, x_b, n_samples)\n",
    "rand_y = random.uniform(y_a, y_b, n_samples)\n",
    "\n",
    "integral_approx = 0\n",
    "\n",
    "for i in range(n_samples):\n",
    "    x = rand_x[i]\n",
    "    y = rand_y[i]\n",
    "\n",
    "    integral_approx += g(x, y)\n",
    "\n",
    "integral_approx = (((x_b - x_a)*(y_b - y_a))/n_samples)*integral_approx\n",
    "integral_approx"
   ]
  },
  {
   "cell_type": "markdown",
   "metadata": {},
   "source": [
    "Note that in every example so far, we've performed Monte Carlo integration that is based on uniform sampling of the domain of integration. However, instead of uniformly sampling the domain of integration, we can use arbitrary probability distributions to sample the domain of integration. This is particularly relevant for importance sampling, which we will cover in Monte Carlo estimation. The use of arbitrary probability distributions is also relevant in variance reduction of Monte Carlo techniques.\n",
    "\n",
    "\n",
    "There are also other more advanced Monte Carlo integration techniques, for example the MISER algorithm, which is based on recursive stratified sampling. There is also the VEGAS algorithm, which combines importance sampling and stratified sampling.\n",
    "\n"
   ]
  }
 ],
 "metadata": {
  "kernelspec": {
   "display_name": "MC_methods",
   "language": "python",
   "name": "python3"
  },
  "language_info": {
   "codemirror_mode": {
    "name": "ipython",
    "version": 3
   },
   "file_extension": ".py",
   "mimetype": "text/x-python",
   "name": "python",
   "nbconvert_exporter": "python",
   "pygments_lexer": "ipython3",
   "version": "3.11.3"
  },
  "orig_nbformat": 4
 },
 "nbformat": 4,
 "nbformat_minor": 2
}
